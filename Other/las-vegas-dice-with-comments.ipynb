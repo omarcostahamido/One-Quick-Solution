{
 "cells": [
  {
   "cell_type": "markdown",
   "metadata": {},
   "source": [
    "## Challenge 1: Break the Bank - Las Vegas\n",
    "\n",
    "Your objective in this project, should you choose to accept it, you and your team will play dice at a Las Vegas casino and win every time! \n",
    "How? By creating a pair of quantum dice!\n",
    "\n",
    "### The Plan\n",
    "\n",
    "In order for this to work, you will need to create at least two entangled dice. However, be sure that you entangle them in a way that security teams won't figure it out and catch you before you make your big move! Ideally you want the dice to provide enough information to you without anyone figuring out what happened. You can do this by ensuring that the entangled dice not roll out the same entangled result each time, but rather different results. \n",
    "\n",
    "For example: \n",
    "If all of your dice roll the same values, it would be too obvious: Dice 1 = 101, Dice 2 = 101 (Where each entangled die is at a different table)\n",
    "\n",
    "If all your dice roll different yet expected values, it would not be too obvious: Dice 1 = 101, Dice 2 = 010 (This is perfect, not easily detected yet as you can see by the results, perfectly entangled)\n",
    "\n",
    "\n",
    "### Let's get to work!\n",
    "You're team will occupy two tables. The first table we will call the 'source', and the other tables we will call the 'target'. The plan is to have your team at the source table, and you at the target table. \n",
    "\n",
    "You will then bet according to the results of the roll of the dice of the team at the Source table. \n",
    "So the source table rolls a '010' (2), then because your dice are entangled with the Source dice, you will roll the opposite (binary digits), '101' (5). \n",
    "This is why we want to ensure that the values are opposite, so that casino security won't think there is anything wrong, wheras if both dice are entangled resulting in the same value each. \n",
    "\n",
    "The next steps here are to \"program\" your entangled dice, good luck!"
   ]
  },
  {
   "cell_type": "code",
   "execution_count": 1,
   "metadata": {},
   "outputs": [],
   "source": [
    "# begin by importing the essential libraries from qiskit\n",
    "from qiskit import IBMQ, Aer\n",
    "from qiskit import ClassicalRegister, QuantumRegister, QuantumCircuit\n",
    "\n",
    "# The following options are recomended for Jupter notebook visualization using matplotlib\n",
    "%matplotlib inline"
   ]
  },
  {
   "cell_type": "markdown",
   "metadata": {},
   "source": [
    "Now let's create the circuit to implement and visualize the quantum circuit needed to create the entangled dice.\n",
    "In this example, to keep things simple, we will create an 8-sided die with binary values 0-7. "
   ]
  },
  {
   "cell_type": "code",
   "execution_count": 2,
   "metadata": {},
   "outputs": [],
   "source": [
    "# set up Quantum Register and Classical Register for 3 qubits (binary values 000 -> 111)\n",
    "q = QuantumRegister(3)\n",
    "c = ClassicalRegister(3)\n",
    "# Create a Quantum Circuit\n",
    "qc = QuantumCircuit(q, c)"
   ]
  },
  {
   "cell_type": "code",
   "execution_count": 3,
   "metadata": {},
   "outputs": [
    {
     "data": {
      "text/plain": [
       "<qiskit.circuit.instructionset.InstructionSet at 0x1a1bda0e10>"
      ]
     },
     "execution_count": 3,
     "metadata": {},
     "output_type": "execute_result"
    }
   ],
   "source": [
    "# now let's set our source die into superposition and measure\n",
    "# so to simulate random die values 0-7, or 1-8 since we dice do not have a 0 value. \n",
    "# Note: the 'barrier' is there just so the circuit displays well, it has no effect on the circuit itself.\n",
    "qc.h(q)\n",
    "qc.barrier(q)\n",
    "qc.measure(q, c)"
   ]
  },
  {
   "cell_type": "code",
   "execution_count": 4,
   "metadata": {},
   "outputs": [
    {
     "name": "stdout",
     "output_type": "stream",
     "text": [
      "OPENQASM 2.0;\n",
      "include \"qelib1.inc\";\n",
      "qreg q0[3];\n",
      "creg c0[3];\n",
      "h q0[0];\n",
      "h q0[1];\n",
      "h q0[2];\n",
      "barrier q0[0],q0[1],q0[2];\n",
      "measure q0[0] -> c0[0];\n",
      "measure q0[1] -> c0[1];\n",
      "measure q0[2] -> c0[2];\n",
      "\n"
     ]
    }
   ],
   "source": [
    "# For completeness, let's see what the openqasm code looks like. \n",
    "QASM_source = qc.qasm()\n",
    "print(QASM_source)"
   ]
  },
  {
   "cell_type": "code",
   "execution_count": 5,
   "metadata": {},
   "outputs": [
    {
     "data": {
      "text/html": [
       "<pre style=\"word-wrap: normal;white-space: pre;background: #fff0;line-height: 1.1;font-family: &quot;Courier New&quot;,Courier,monospace\">         ┌───┐ ░ ┌─┐      \n",
       "q0_0: |0>┤ H ├─░─┤M├──────\n",
       "         ├───┤ ░ └╥┘┌─┐   \n",
       "q0_1: |0>┤ H ├─░──╫─┤M├───\n",
       "         ├───┤ ░  ║ └╥┘┌─┐\n",
       "q0_2: |0>┤ H ├─░──╫──╫─┤M├\n",
       "         └───┘ ░  ║  ║ └╥┘\n",
       " c0_0: 0 ═════════╩══╬══╬═\n",
       "                     ║  ║ \n",
       " c0_1: 0 ════════════╩══╬═\n",
       "                        ║ \n",
       " c0_2: 0 ═══════════════╩═\n",
       "                          </pre>"
      ],
      "text/plain": [
       "<qiskit.visualization.text.TextDrawing at 0x1a1bdb1e10>"
      ]
     },
     "execution_count": 5,
     "metadata": {},
     "output_type": "execute_result"
    }
   ],
   "source": [
    "# While we're at it, let's also look at our circuit visually. \n",
    "# This is similar to what we would see in the IBM Q Composer. \n",
    "qc.draw()"
   ]
  },
  {
   "cell_type": "markdown",
   "metadata": {},
   "source": [
    "Now let's run and test out our die. We will run a single shot (to simulate rolling the die on a casino table). \n",
    "Rerun the cell below a few times so to see the values of the die change for each roll. "
   ]
  },
  {
   "cell_type": "code",
   "execution_count": 6,
   "metadata": {},
   "outputs": [
    {
     "name": "stdout",
     "output_type": "stream",
     "text": [
      "{'101': 1}\n"
     ]
    }
   ],
   "source": [
    "from qiskit import execute\n",
    "job = execute(qc, backend=Aer.get_backend('qasm_simulator'), shots=1)\n",
    "result = job.result().get_counts(qc)\n",
    "print(result)"
   ]
  },
  {
   "cell_type": "markdown",
   "metadata": {},
   "source": [
    "### Create the Target die\n",
    "In this section we will now create the target die, which we will entangle to our source die. \n",
    "To simplify this let's create the second die by adding 3 more qubits. Then the first three qubits we can refer to as the source die, and the second set of three qubits are for the target die. \n",
    "\n",
    "For example, the classical bit result {010111} means that the source die (first three bits from left, LSB) = 111, and the target die (remaing three bits) are the bits to the right of the first three = 010. "
   ]
  },
  {
   "cell_type": "code",
   "execution_count": 7,
   "metadata": {},
   "outputs": [
    {
     "name": "stderr",
     "output_type": "stream",
     "text": [
      "/anaconda3/lib/python3.7/site-packages/qiskit/providers/ibmq/utils/deprecation.py:53: DeprecationWarning: IBMQ.load_accounts() is being deprecated. Please use IBM Q Experience v2 credentials and IBMQ.load_account() (note the singular form) instead. You can find the instructions to make the updates here: \n",
      "https://github.com/Qiskit/qiskit-ibmq-provider#updating-to-the-new-ibm-q-experience\n",
      "  DeprecationWarning)\n"
     ]
    },
    {
     "ename": "ConnectionError",
     "evalue": "Couldn't connect to IBMQ server: error during login: Expecting value: line 1 column 1 (char 0)",
     "output_type": "error",
     "traceback": [
      "\u001b[0;31m---------------------------------------------------------------------------\u001b[0m",
      "\u001b[0;31mJSONDecodeError\u001b[0m                           Traceback (most recent call last)",
      "\u001b[0;32m/anaconda3/lib/python3.7/site-packages/qiskit/providers/ibmq/api/utils.py\u001b[0m in \u001b[0;36mobtain_token\u001b[0;34m(self, config)\u001b[0m\n\u001b[1;32m    135\u001b[0m             \u001b[0mresponse\u001b[0m\u001b[0;34m.\u001b[0m\u001b[0mraise_for_status\u001b[0m\u001b[0;34m(\u001b[0m\u001b[0;34m)\u001b[0m\u001b[0;34m\u001b[0m\u001b[0;34m\u001b[0m\u001b[0m\n\u001b[0;32m--> 136\u001b[0;31m             \u001b[0mself\u001b[0m\u001b[0;34m.\u001b[0m\u001b[0mdata_credentials\u001b[0m \u001b[0;34m=\u001b[0m \u001b[0mresponse\u001b[0m\u001b[0;34m.\u001b[0m\u001b[0mjson\u001b[0m\u001b[0;34m(\u001b[0m\u001b[0;34m)\u001b[0m\u001b[0;34m\u001b[0m\u001b[0;34m\u001b[0m\u001b[0m\n\u001b[0m\u001b[1;32m    137\u001b[0m         \u001b[0;32mexcept\u001b[0m \u001b[0;34m(\u001b[0m\u001b[0mrequests\u001b[0m\u001b[0;34m.\u001b[0m\u001b[0mHTTPError\u001b[0m\u001b[0;34m,\u001b[0m \u001b[0mValueError\u001b[0m\u001b[0;34m)\u001b[0m \u001b[0;32mas\u001b[0m \u001b[0mex\u001b[0m\u001b[0;34m:\u001b[0m\u001b[0;34m\u001b[0m\u001b[0;34m\u001b[0m\u001b[0m\n",
      "\u001b[0;32m/anaconda3/lib/python3.7/site-packages/requests/models.py\u001b[0m in \u001b[0;36mjson\u001b[0;34m(self, **kwargs)\u001b[0m\n\u001b[1;32m    896\u001b[0m                     \u001b[0;32mpass\u001b[0m\u001b[0;34m\u001b[0m\u001b[0;34m\u001b[0m\u001b[0m\n\u001b[0;32m--> 897\u001b[0;31m         \u001b[0;32mreturn\u001b[0m \u001b[0mcomplexjson\u001b[0m\u001b[0;34m.\u001b[0m\u001b[0mloads\u001b[0m\u001b[0;34m(\u001b[0m\u001b[0mself\u001b[0m\u001b[0;34m.\u001b[0m\u001b[0mtext\u001b[0m\u001b[0;34m,\u001b[0m \u001b[0;34m**\u001b[0m\u001b[0mkwargs\u001b[0m\u001b[0;34m)\u001b[0m\u001b[0;34m\u001b[0m\u001b[0;34m\u001b[0m\u001b[0m\n\u001b[0m\u001b[1;32m    898\u001b[0m \u001b[0;34m\u001b[0m\u001b[0m\n",
      "\u001b[0;32m/anaconda3/lib/python3.7/json/__init__.py\u001b[0m in \u001b[0;36mloads\u001b[0;34m(s, encoding, cls, object_hook, parse_float, parse_int, parse_constant, object_pairs_hook, **kw)\u001b[0m\n\u001b[1;32m    347\u001b[0m             parse_constant is None and object_pairs_hook is None and not kw):\n\u001b[0;32m--> 348\u001b[0;31m         \u001b[0;32mreturn\u001b[0m \u001b[0m_default_decoder\u001b[0m\u001b[0;34m.\u001b[0m\u001b[0mdecode\u001b[0m\u001b[0;34m(\u001b[0m\u001b[0ms\u001b[0m\u001b[0;34m)\u001b[0m\u001b[0;34m\u001b[0m\u001b[0;34m\u001b[0m\u001b[0m\n\u001b[0m\u001b[1;32m    349\u001b[0m     \u001b[0;32mif\u001b[0m \u001b[0mcls\u001b[0m \u001b[0;32mis\u001b[0m \u001b[0;32mNone\u001b[0m\u001b[0;34m:\u001b[0m\u001b[0;34m\u001b[0m\u001b[0;34m\u001b[0m\u001b[0m\n",
      "\u001b[0;32m/anaconda3/lib/python3.7/json/decoder.py\u001b[0m in \u001b[0;36mdecode\u001b[0;34m(self, s, _w)\u001b[0m\n\u001b[1;32m    336\u001b[0m         \"\"\"\n\u001b[0;32m--> 337\u001b[0;31m         \u001b[0mobj\u001b[0m\u001b[0;34m,\u001b[0m \u001b[0mend\u001b[0m \u001b[0;34m=\u001b[0m \u001b[0mself\u001b[0m\u001b[0;34m.\u001b[0m\u001b[0mraw_decode\u001b[0m\u001b[0;34m(\u001b[0m\u001b[0ms\u001b[0m\u001b[0;34m,\u001b[0m \u001b[0midx\u001b[0m\u001b[0;34m=\u001b[0m\u001b[0m_w\u001b[0m\u001b[0;34m(\u001b[0m\u001b[0ms\u001b[0m\u001b[0;34m,\u001b[0m \u001b[0;36m0\u001b[0m\u001b[0;34m)\u001b[0m\u001b[0;34m.\u001b[0m\u001b[0mend\u001b[0m\u001b[0;34m(\u001b[0m\u001b[0;34m)\u001b[0m\u001b[0;34m)\u001b[0m\u001b[0;34m\u001b[0m\u001b[0;34m\u001b[0m\u001b[0m\n\u001b[0m\u001b[1;32m    338\u001b[0m         \u001b[0mend\u001b[0m \u001b[0;34m=\u001b[0m \u001b[0m_w\u001b[0m\u001b[0;34m(\u001b[0m\u001b[0ms\u001b[0m\u001b[0;34m,\u001b[0m \u001b[0mend\u001b[0m\u001b[0;34m)\u001b[0m\u001b[0;34m.\u001b[0m\u001b[0mend\u001b[0m\u001b[0;34m(\u001b[0m\u001b[0;34m)\u001b[0m\u001b[0;34m\u001b[0m\u001b[0;34m\u001b[0m\u001b[0m\n",
      "\u001b[0;32m/anaconda3/lib/python3.7/json/decoder.py\u001b[0m in \u001b[0;36mraw_decode\u001b[0;34m(self, s, idx)\u001b[0m\n\u001b[1;32m    354\u001b[0m         \u001b[0;32mexcept\u001b[0m \u001b[0mStopIteration\u001b[0m \u001b[0;32mas\u001b[0m \u001b[0merr\u001b[0m\u001b[0;34m:\u001b[0m\u001b[0;34m\u001b[0m\u001b[0;34m\u001b[0m\u001b[0m\n\u001b[0;32m--> 355\u001b[0;31m             \u001b[0;32mraise\u001b[0m \u001b[0mJSONDecodeError\u001b[0m\u001b[0;34m(\u001b[0m\u001b[0;34m\"Expecting value\"\u001b[0m\u001b[0;34m,\u001b[0m \u001b[0ms\u001b[0m\u001b[0;34m,\u001b[0m \u001b[0merr\u001b[0m\u001b[0;34m.\u001b[0m\u001b[0mvalue\u001b[0m\u001b[0;34m)\u001b[0m \u001b[0;32mfrom\u001b[0m \u001b[0;32mNone\u001b[0m\u001b[0;34m\u001b[0m\u001b[0;34m\u001b[0m\u001b[0m\n\u001b[0m\u001b[1;32m    356\u001b[0m         \u001b[0;32mreturn\u001b[0m \u001b[0mobj\u001b[0m\u001b[0;34m,\u001b[0m \u001b[0mend\u001b[0m\u001b[0;34m\u001b[0m\u001b[0;34m\u001b[0m\u001b[0m\n",
      "\u001b[0;31mJSONDecodeError\u001b[0m: Expecting value: line 1 column 1 (char 0)",
      "\nDuring handling of the above exception, another exception occurred:\n",
      "\u001b[0;31mApiError\u001b[0m                                  Traceback (most recent call last)",
      "\u001b[0;32m/anaconda3/lib/python3.7/site-packages/qiskit/providers/ibmq/ibmqsingleprovider.py\u001b[0m in \u001b[0;36m_authenticate\u001b[0;34m(cls, credentials)\u001b[0m\n\u001b[1;32m     84\u001b[0m             return IBMQConnector(credentials.token, config_dict,\n\u001b[0;32m---> 85\u001b[0;31m                                  credentials.verify)\n\u001b[0m\u001b[1;32m     86\u001b[0m         \u001b[0;32mexcept\u001b[0m \u001b[0mException\u001b[0m \u001b[0;32mas\u001b[0m \u001b[0mex\u001b[0m\u001b[0;34m:\u001b[0m\u001b[0;34m\u001b[0m\u001b[0;34m\u001b[0m\u001b[0m\n",
      "\u001b[0;32m/anaconda3/lib/python3.7/site-packages/qiskit/providers/ibmq/api/ibmqconnector.py\u001b[0m in \u001b[0;36m__init__\u001b[0;34m(self, token, config, verify)\u001b[0m\n\u001b[1;32m    102\u001b[0m \u001b[0;34m\u001b[0m\u001b[0m\n\u001b[0;32m--> 103\u001b[0;31m         \u001b[0mself\u001b[0m\u001b[0;34m.\u001b[0m\u001b[0mreq\u001b[0m \u001b[0;34m=\u001b[0m \u001b[0mRequest\u001b[0m\u001b[0;34m(\u001b[0m\u001b[0mtoken\u001b[0m\u001b[0;34m,\u001b[0m \u001b[0mconfig\u001b[0m\u001b[0;34m=\u001b[0m\u001b[0mconfig\u001b[0m\u001b[0;34m,\u001b[0m \u001b[0mverify\u001b[0m\u001b[0;34m=\u001b[0m\u001b[0mverify\u001b[0m\u001b[0;34m)\u001b[0m\u001b[0;34m\u001b[0m\u001b[0;34m\u001b[0m\u001b[0m\n\u001b[0m\u001b[1;32m    104\u001b[0m \u001b[0;34m\u001b[0m\u001b[0m\n",
      "\u001b[0;32m/anaconda3/lib/python3.7/site-packages/qiskit/providers/ibmq/api/utils.py\u001b[0m in \u001b[0;36m__init__\u001b[0;34m(self, token, config, verify, retries, timeout_interval)\u001b[0m\n\u001b[1;32m    216\u001b[0m                                       \u001b[0mproxy_urls\u001b[0m\u001b[0;34m=\u001b[0m\u001b[0mself\u001b[0m\u001b[0;34m.\u001b[0m\u001b[0mproxy_urls\u001b[0m\u001b[0;34m,\u001b[0m\u001b[0;34m\u001b[0m\u001b[0;34m\u001b[0m\u001b[0m\n\u001b[0;32m--> 217\u001b[0;31m                                       ntlm_credentials=self.ntlm_credentials)\n\u001b[0m\u001b[1;32m    218\u001b[0m \u001b[0;34m\u001b[0m\u001b[0m\n",
      "\u001b[0;32m/anaconda3/lib/python3.7/site-packages/qiskit/providers/ibmq/api/utils.py\u001b[0m in \u001b[0;36m__init__\u001b[0;34m(self, token, config, verify, proxy_urls, ntlm_credentials)\u001b[0m\n\u001b[1;32m     67\u001b[0m         \u001b[0;32mif\u001b[0m \u001b[0mtoken\u001b[0m\u001b[0;34m:\u001b[0m\u001b[0;34m\u001b[0m\u001b[0;34m\u001b[0m\u001b[0m\n\u001b[0;32m---> 68\u001b[0;31m             \u001b[0mself\u001b[0m\u001b[0;34m.\u001b[0m\u001b[0mobtain_token\u001b[0m\u001b[0;34m(\u001b[0m\u001b[0mconfig\u001b[0m\u001b[0;34m=\u001b[0m\u001b[0mself\u001b[0m\u001b[0;34m.\u001b[0m\u001b[0mconfig\u001b[0m\u001b[0;34m)\u001b[0m\u001b[0;34m\u001b[0m\u001b[0;34m\u001b[0m\u001b[0m\n\u001b[0m\u001b[1;32m     69\u001b[0m         \u001b[0;32melse\u001b[0m\u001b[0;34m:\u001b[0m\u001b[0;34m\u001b[0m\u001b[0;34m\u001b[0m\u001b[0m\n",
      "\u001b[0;32m/anaconda3/lib/python3.7/site-packages/qiskit/providers/ibmq/api/utils.py\u001b[0m in \u001b[0;36mobtain_token\u001b[0;34m(self, config)\u001b[0m\n\u001b[1;32m    137\u001b[0m         \u001b[0;32mexcept\u001b[0m \u001b[0;34m(\u001b[0m\u001b[0mrequests\u001b[0m\u001b[0;34m.\u001b[0m\u001b[0mHTTPError\u001b[0m\u001b[0;34m,\u001b[0m \u001b[0mValueError\u001b[0m\u001b[0;34m)\u001b[0m \u001b[0;32mas\u001b[0m \u001b[0mex\u001b[0m\u001b[0;34m:\u001b[0m\u001b[0;34m\u001b[0m\u001b[0;34m\u001b[0m\u001b[0m\n\u001b[0;32m--> 138\u001b[0;31m             \u001b[0;32mraise\u001b[0m \u001b[0mApiError\u001b[0m\u001b[0;34m(\u001b[0m\u001b[0;34m'error during login: %s'\u001b[0m \u001b[0;34m%\u001b[0m \u001b[0mstr\u001b[0m\u001b[0;34m(\u001b[0m\u001b[0mex\u001b[0m\u001b[0;34m)\u001b[0m\u001b[0;34m)\u001b[0m\u001b[0;34m\u001b[0m\u001b[0;34m\u001b[0m\u001b[0m\n\u001b[0m\u001b[1;32m    139\u001b[0m \u001b[0;34m\u001b[0m\u001b[0m\n",
      "\u001b[0;31mApiError\u001b[0m: error during login: Expecting value: line 1 column 1 (char 0)",
      "\nThe above exception was the direct cause of the following exception:\n",
      "\u001b[0;31mConnectionError\u001b[0m                           Traceback (most recent call last)",
      "\u001b[0;32m<ipython-input-7-b72266d43695>\u001b[0m in \u001b[0;36m<module>\u001b[0;34m\u001b[0m\n\u001b[1;32m      1\u001b[0m \u001b[0;31m# load IBM Q account, only if you want to run this on a real device\u001b[0m\u001b[0;34m\u001b[0m\u001b[0;34m\u001b[0m\u001b[0;34m\u001b[0m\u001b[0m\n\u001b[0;32m----> 2\u001b[0;31m \u001b[0mIBMQ\u001b[0m\u001b[0;34m.\u001b[0m\u001b[0mload_accounts\u001b[0m\u001b[0;34m(\u001b[0m\u001b[0;34m)\u001b[0m\u001b[0;34m\u001b[0m\u001b[0;34m\u001b[0m\u001b[0m\n\u001b[0m",
      "\u001b[0;32m/anaconda3/lib/python3.7/site-packages/qiskit/providers/ibmq/utils/deprecation.py\u001b[0m in \u001b[0;36m_wrapper\u001b[0;34m(self, *args, **kwargs)\u001b[0m\n\u001b[1;32m     52\u001b[0m             \u001b[0;34m.\u001b[0m\u001b[0mformat\u001b[0m\u001b[0;34m(\u001b[0m\u001b[0mfunc\u001b[0m\u001b[0;34m.\u001b[0m\u001b[0m__name__\u001b[0m\u001b[0;34m,\u001b[0m \u001b[0mfunc\u001b[0m\u001b[0;34m.\u001b[0m\u001b[0m__name__\u001b[0m\u001b[0;34m[\u001b[0m\u001b[0;34m:\u001b[0m\u001b[0;34m-\u001b[0m\u001b[0;36m1\u001b[0m\u001b[0;34m]\u001b[0m\u001b[0;34m)\u001b[0m\u001b[0;34m,\u001b[0m\u001b[0;34m\u001b[0m\u001b[0;34m\u001b[0m\u001b[0m\n\u001b[1;32m     53\u001b[0m             DeprecationWarning)\n\u001b[0;32m---> 54\u001b[0;31m         \u001b[0;32mreturn\u001b[0m \u001b[0mfunc\u001b[0m\u001b[0;34m(\u001b[0m\u001b[0mself\u001b[0m\u001b[0;34m,\u001b[0m \u001b[0;34m*\u001b[0m\u001b[0margs\u001b[0m\u001b[0;34m,\u001b[0m \u001b[0;34m**\u001b[0m\u001b[0mkwargs\u001b[0m\u001b[0;34m)\u001b[0m\u001b[0;34m\u001b[0m\u001b[0;34m\u001b[0m\u001b[0m\n\u001b[0m\u001b[1;32m     55\u001b[0m \u001b[0;34m\u001b[0m\u001b[0m\n\u001b[1;32m     56\u001b[0m     \u001b[0;32mreturn\u001b[0m \u001b[0m_wrapper\u001b[0m\u001b[0;34m\u001b[0m\u001b[0;34m\u001b[0m\u001b[0m\n",
      "\u001b[0;32m/anaconda3/lib/python3.7/site-packages/qiskit/providers/ibmq/ibmqfactory.py\u001b[0m in \u001b[0;36mload_accounts\u001b[0;34m(self, **kwargs)\u001b[0m\n\u001b[1;32m    485\u001b[0m         \u001b[0;32melse\u001b[0m\u001b[0;34m:\u001b[0m\u001b[0;34m\u001b[0m\u001b[0;34m\u001b[0m\u001b[0m\n\u001b[1;32m    486\u001b[0m             \u001b[0;31m# Old API v1 call\u001b[0m\u001b[0;34m\u001b[0m\u001b[0;34m\u001b[0m\u001b[0;34m\u001b[0m\u001b[0m\n\u001b[0;32m--> 487\u001b[0;31m             \u001b[0mself\u001b[0m\u001b[0;34m.\u001b[0m\u001b[0m_v1_provider\u001b[0m\u001b[0;34m.\u001b[0m\u001b[0mload_accounts\u001b[0m\u001b[0;34m(\u001b[0m\u001b[0;34m**\u001b[0m\u001b[0mkwargs\u001b[0m\u001b[0;34m)\u001b[0m\u001b[0;34m\u001b[0m\u001b[0;34m\u001b[0m\u001b[0m\n\u001b[0m\u001b[1;32m    488\u001b[0m \u001b[0;34m\u001b[0m\u001b[0m\n\u001b[1;32m    489\u001b[0m     \u001b[0;34m@\u001b[0m\u001b[0mdeprecated\u001b[0m\u001b[0;34m\u001b[0m\u001b[0;34m\u001b[0m\u001b[0m\n",
      "\u001b[0;32m/anaconda3/lib/python3.7/site-packages/qiskit/providers/ibmq/ibmqprovider.py\u001b[0m in \u001b[0;36mload_accounts\u001b[0;34m(self, **kwargs)\u001b[0m\n\u001b[1;32m    191\u001b[0m         \u001b[0;32mfor\u001b[0m \u001b[0mcredentials\u001b[0m \u001b[0;32min\u001b[0m \u001b[0mdiscover_credentials\u001b[0m\u001b[0;34m(\u001b[0m\u001b[0;34m)\u001b[0m\u001b[0;34m.\u001b[0m\u001b[0mvalues\u001b[0m\u001b[0;34m(\u001b[0m\u001b[0;34m)\u001b[0m\u001b[0;34m:\u001b[0m\u001b[0;34m\u001b[0m\u001b[0;34m\u001b[0m\u001b[0m\n\u001b[1;32m    192\u001b[0m             \u001b[0;32mif\u001b[0m \u001b[0mself\u001b[0m\u001b[0;34m.\u001b[0m\u001b[0m_credentials_match_filter\u001b[0m\u001b[0;34m(\u001b[0m\u001b[0mcredentials\u001b[0m\u001b[0;34m,\u001b[0m \u001b[0mkwargs\u001b[0m\u001b[0;34m)\u001b[0m\u001b[0;34m:\u001b[0m\u001b[0;34m\u001b[0m\u001b[0;34m\u001b[0m\u001b[0m\n\u001b[0;32m--> 193\u001b[0;31m                 \u001b[0mself\u001b[0m\u001b[0;34m.\u001b[0m\u001b[0m_append_account\u001b[0m\u001b[0;34m(\u001b[0m\u001b[0mcredentials\u001b[0m\u001b[0;34m)\u001b[0m\u001b[0;34m\u001b[0m\u001b[0;34m\u001b[0m\u001b[0m\n\u001b[0m\u001b[1;32m    194\u001b[0m \u001b[0;34m\u001b[0m\u001b[0m\n\u001b[1;32m    195\u001b[0m         \u001b[0;32mif\u001b[0m \u001b[0;32mnot\u001b[0m \u001b[0mself\u001b[0m\u001b[0;34m.\u001b[0m\u001b[0m_accounts\u001b[0m\u001b[0;34m:\u001b[0m\u001b[0;34m\u001b[0m\u001b[0;34m\u001b[0m\u001b[0m\n",
      "\u001b[0;32m/anaconda3/lib/python3.7/site-packages/qiskit/providers/ibmq/ibmqprovider.py\u001b[0m in \u001b[0;36m_append_account\u001b[0;34m(self, credentials)\u001b[0m\n\u001b[1;32m    256\u001b[0m             \u001b[0mwarnings\u001b[0m\u001b[0;34m.\u001b[0m\u001b[0mwarn\u001b[0m\u001b[0;34m(\u001b[0m\u001b[0;34m'Credentials are already in use.'\u001b[0m\u001b[0;34m)\u001b[0m\u001b[0;34m\u001b[0m\u001b[0;34m\u001b[0m\u001b[0m\n\u001b[1;32m    257\u001b[0m \u001b[0;34m\u001b[0m\u001b[0m\n\u001b[0;32m--> 258\u001b[0;31m         \u001b[0msingle_provider\u001b[0m \u001b[0;34m=\u001b[0m \u001b[0mIBMQSingleProvider\u001b[0m\u001b[0;34m(\u001b[0m\u001b[0mcredentials\u001b[0m\u001b[0;34m,\u001b[0m \u001b[0mself\u001b[0m\u001b[0;34m)\u001b[0m\u001b[0;34m\u001b[0m\u001b[0;34m\u001b[0m\u001b[0m\n\u001b[0m\u001b[1;32m    259\u001b[0m \u001b[0;34m\u001b[0m\u001b[0m\n\u001b[1;32m    260\u001b[0m         \u001b[0mself\u001b[0m\u001b[0;34m.\u001b[0m\u001b[0m_accounts\u001b[0m\u001b[0;34m[\u001b[0m\u001b[0mcredentials\u001b[0m\u001b[0;34m.\u001b[0m\u001b[0munique_id\u001b[0m\u001b[0;34m(\u001b[0m\u001b[0;34m)\u001b[0m\u001b[0;34m]\u001b[0m \u001b[0;34m=\u001b[0m \u001b[0msingle_provider\u001b[0m\u001b[0;34m\u001b[0m\u001b[0;34m\u001b[0m\u001b[0m\n",
      "\u001b[0;32m/anaconda3/lib/python3.7/site-packages/qiskit/providers/ibmq/ibmqsingleprovider.py\u001b[0m in \u001b[0;36m__init__\u001b[0;34m(self, credentials, ibmq_provider)\u001b[0m\n\u001b[1;32m     49\u001b[0m         \u001b[0;31m# Get a connection to IBMQ.\u001b[0m\u001b[0;34m\u001b[0m\u001b[0;34m\u001b[0m\u001b[0;34m\u001b[0m\u001b[0m\n\u001b[1;32m     50\u001b[0m         \u001b[0mself\u001b[0m\u001b[0;34m.\u001b[0m\u001b[0mcredentials\u001b[0m \u001b[0;34m=\u001b[0m \u001b[0mcredentials\u001b[0m\u001b[0;34m\u001b[0m\u001b[0;34m\u001b[0m\u001b[0m\n\u001b[0;32m---> 51\u001b[0;31m         \u001b[0mself\u001b[0m\u001b[0;34m.\u001b[0m\u001b[0m_api\u001b[0m \u001b[0;34m=\u001b[0m \u001b[0mself\u001b[0m\u001b[0;34m.\u001b[0m\u001b[0m_authenticate\u001b[0m\u001b[0;34m(\u001b[0m\u001b[0mself\u001b[0m\u001b[0;34m.\u001b[0m\u001b[0mcredentials\u001b[0m\u001b[0;34m)\u001b[0m\u001b[0;34m\u001b[0m\u001b[0;34m\u001b[0m\u001b[0m\n\u001b[0m\u001b[1;32m     52\u001b[0m         \u001b[0mself\u001b[0m\u001b[0;34m.\u001b[0m\u001b[0m_ibm_provider\u001b[0m \u001b[0;34m=\u001b[0m \u001b[0mibmq_provider\u001b[0m\u001b[0;34m\u001b[0m\u001b[0;34m\u001b[0m\u001b[0m\n\u001b[1;32m     53\u001b[0m \u001b[0;34m\u001b[0m\u001b[0m\n",
      "\u001b[0;32m/anaconda3/lib/python3.7/site-packages/qiskit/providers/ibmq/ibmqsingleprovider.py\u001b[0m in \u001b[0;36m_authenticate\u001b[0;34m(cls, credentials)\u001b[0m\n\u001b[1;32m     91\u001b[0m                 \u001b[0mroot_exception\u001b[0m \u001b[0;34m=\u001b[0m \u001b[0;32mNone\u001b[0m\u001b[0;34m\u001b[0m\u001b[0;34m\u001b[0m\u001b[0m\n\u001b[1;32m     92\u001b[0m             raise ConnectionError(\"Couldn't connect to IBMQ server: {0}\"\n\u001b[0;32m---> 93\u001b[0;31m                                   .format(ex)) from root_exception\n\u001b[0m\u001b[1;32m     94\u001b[0m \u001b[0;34m\u001b[0m\u001b[0m\n\u001b[1;32m     95\u001b[0m     \u001b[0;32mdef\u001b[0m \u001b[0m_discover_remote_backends\u001b[0m\u001b[0;34m(\u001b[0m\u001b[0mself\u001b[0m\u001b[0;34m)\u001b[0m\u001b[0;34m:\u001b[0m\u001b[0;34m\u001b[0m\u001b[0;34m\u001b[0m\u001b[0m\n",
      "\u001b[0;31mConnectionError\u001b[0m: Couldn't connect to IBMQ server: error during login: Expecting value: line 1 column 1 (char 0)"
     ]
    }
   ],
   "source": [
    "# load IBM Q account, only if you want to run this on a real device\n",
    "IBMQ.load_accounts()"
   ]
  },
  {
   "cell_type": "code",
   "execution_count": 8,
   "metadata": {},
   "outputs": [
    {
     "data": {
      "text/plain": [
       "<qiskit.circuit.instructionset.InstructionSet at 0x1a1be59d68>"
      ]
     },
     "execution_count": 8,
     "metadata": {},
     "output_type": "execute_result"
    }
   ],
   "source": [
    "# First let's double the size of our bit set.\n",
    "bitSize = 3\n",
    "\n",
    "# since we have just two dice, source and target, we will multiply by two.\n",
    "q = QuantumRegister(2*bitSize)\n",
    "c = ClassicalRegister(2*bitSize)\n",
    "# Create a Quantum Circuit, same as before.\n",
    "qc = QuantumCircuit(q, c)\n",
    "\n",
    "# now, just as before, let's set our source die into superposition and measure\n",
    "qc.h(q)\n",
    "qc.barrier(q)\n",
    "qc.measure(q, c)"
   ]
  },
  {
   "cell_type": "code",
   "execution_count": 9,
   "metadata": {},
   "outputs": [
    {
     "name": "stdout",
     "output_type": "stream",
     "text": [
      "OPENQASM 2.0;\n",
      "include \"qelib1.inc\";\n",
      "qreg q1[6];\n",
      "creg c1[6];\n",
      "h q1[0];\n",
      "h q1[1];\n",
      "h q1[2];\n",
      "h q1[3];\n",
      "h q1[4];\n",
      "h q1[5];\n",
      "barrier q1[0],q1[1],q1[2],q1[3],q1[4],q1[5];\n",
      "measure q1[0] -> c1[0];\n",
      "measure q1[1] -> c1[1];\n",
      "measure q1[2] -> c1[2];\n",
      "measure q1[3] -> c1[3];\n",
      "measure q1[4] -> c1[4];\n",
      "measure q1[5] -> c1[5];\n",
      "\n"
     ]
    }
   ],
   "source": [
    "# Review the openqasm code. \n",
    "QASM_source = qc.qasm()\n",
    "print(QASM_source)"
   ]
  },
  {
   "cell_type": "markdown",
   "metadata": {},
   "source": [
    "Note the measure mapping above maps to 6 classic bits, we will view bits 0-2 (first three) as the source, and bits 3-5 (remaining three) as the target. "
   ]
  },
  {
   "cell_type": "code",
   "execution_count": 10,
   "metadata": {},
   "outputs": [
    {
     "data": {
      "text/html": [
       "<pre style=\"word-wrap: normal;white-space: pre;background: #fff0;line-height: 1.1;font-family: &quot;Courier New&quot;,Courier,monospace\">         ┌───┐ ░ ┌─┐               \n",
       "q1_0: |0>┤ H ├─░─┤M├───────────────\n",
       "         ├───┤ ░ └╥┘┌─┐            \n",
       "q1_1: |0>┤ H ├─░──╫─┤M├────────────\n",
       "         ├───┤ ░  ║ └╥┘┌─┐         \n",
       "q1_2: |0>┤ H ├─░──╫──╫─┤M├─────────\n",
       "         ├───┤ ░  ║  ║ └╥┘┌─┐      \n",
       "q1_3: |0>┤ H ├─░──╫──╫──╫─┤M├──────\n",
       "         ├───┤ ░  ║  ║  ║ └╥┘┌─┐   \n",
       "q1_4: |0>┤ H ├─░──╫──╫──╫──╫─┤M├───\n",
       "         ├───┤ ░  ║  ║  ║  ║ └╥┘┌─┐\n",
       "q1_5: |0>┤ H ├─░──╫──╫──╫──╫──╫─┤M├\n",
       "         └───┘ ░  ║  ║  ║  ║  ║ └╥┘\n",
       " c1_0: 0 ═════════╩══╬══╬══╬══╬══╬═\n",
       "                     ║  ║  ║  ║  ║ \n",
       " c1_1: 0 ════════════╩══╬══╬══╬══╬═\n",
       "                        ║  ║  ║  ║ \n",
       " c1_2: 0 ═══════════════╩══╬══╬══╬═\n",
       "                           ║  ║  ║ \n",
       " c1_3: 0 ══════════════════╩══╬══╬═\n",
       "                              ║  ║ \n",
       " c1_4: 0 ═════════════════════╩══╬═\n",
       "                                 ║ \n",
       " c1_5: 0 ════════════════════════╩═\n",
       "                                   </pre>"
      ],
      "text/plain": [
       "<qiskit.visualization.text.TextDrawing at 0x1a1be59278>"
      ]
     },
     "execution_count": 10,
     "metadata": {},
     "output_type": "execute_result"
    }
   ],
   "source": [
    "# Now draw the circuit with a bundled classical register\n",
    "qc.draw()"
   ]
  },
  {
   "cell_type": "markdown",
   "metadata": {},
   "source": [
    "Ok, now that you have built the circuit we are ready to test this out. Run this with one shot and note the results. "
   ]
  },
  {
   "cell_type": "code",
   "execution_count": 11,
   "metadata": {},
   "outputs": [
    {
     "name": "stdout",
     "output_type": "stream",
     "text": [
      "{'000001': 1}\n"
     ]
    }
   ],
   "source": [
    "# We will use the qasm simulator to run this first. \n",
    "# You can then try running it on the real machine and compare the results.\n",
    "job = execute(qc, backend=Aer.get_backend('qasm_simulator'), shots=1)\n",
    "result = job.result().get_counts(qc)\n",
    "print(result)"
   ]
  },
  {
   "cell_type": "markdown",
   "metadata": {},
   "source": [
    "After executing the above, you will note that each time you run it, the source and target dice change randomly. This is fine, except this does not yet help with what we need to accomplish our objective. We want to now entangle them so that they are not so random between source and target. \n",
    "In order to do this we need to do two things. \n",
    "\n",
    "1. Only the source die should be random, since this will simulate the random roll of a die. \n",
    "2. Entangle the target die to the source die. "
   ]
  },
  {
   "cell_type": "code",
   "execution_count": 12,
   "metadata": {},
   "outputs": [
    {
     "data": {
      "text/plain": [
       "<qiskit.circuit.instructionset.InstructionSet at 0x1a1bf95e80>"
      ]
     },
     "execution_count": 12,
     "metadata": {},
     "output_type": "execute_result"
    }
   ],
   "source": [
    "# First, reset the circuit\n",
    "q = QuantumRegister(2*bitSize)\n",
    "c = ClassicalRegister(2*bitSize)\n",
    "# Create a Quantum Circuit, same as before.\n",
    "qc = QuantumCircuit(q, c)\n",
    "\n",
    "# Set only the source die to random by adding a Hadamard gate to the first three, then\n",
    "# we want to entangle the the first three qubits to the last three qubits. We'll do this using a simple for loop.\n",
    "\n",
    "# Adding h to first three, and cx between source and target\n",
    "for i in range(bitSize):\n",
    "    qc.h(q[i])\n",
    "    qc.cx(q[i], q[i+bitSize])\n",
    "\n",
    "qc.barrier(q)\n",
    "# Measure the full circuit    \n",
    "qc.measure(q, c)"
   ]
  },
  {
   "cell_type": "code",
   "execution_count": 13,
   "metadata": {},
   "outputs": [
    {
     "data": {
      "text/html": [
       "<pre style=\"word-wrap: normal;white-space: pre;background: #fff0;line-height: 1.1;font-family: &quot;Courier New&quot;,Courier,monospace\">         ┌───┐                ░ ┌─┐               \n",
       "q2_0: |0>┤ H ├──■─────────────░─┤M├───────────────\n",
       "         ├───┤  │             ░ └╥┘┌─┐            \n",
       "q2_1: |0>┤ H ├──┼────■────────░──╫─┤M├────────────\n",
       "         ├───┤  │    │        ░  ║ └╥┘┌─┐         \n",
       "q2_2: |0>┤ H ├──┼────┼────■───░──╫──╫─┤M├─────────\n",
       "         └───┘┌─┴─┐  │    │   ░  ║  ║ └╥┘┌─┐      \n",
       "q2_3: |0>─────┤ X ├──┼────┼───░──╫──╫──╫─┤M├──────\n",
       "              └───┘┌─┴─┐  │   ░  ║  ║  ║ └╥┘┌─┐   \n",
       "q2_4: |0>──────────┤ X ├──┼───░──╫──╫──╫──╫─┤M├───\n",
       "                   └───┘┌─┴─┐ ░  ║  ║  ║  ║ └╥┘┌─┐\n",
       "q2_5: |0>───────────────┤ X ├─░──╫──╫──╫──╫──╫─┤M├\n",
       "                        └───┘ ░  ║  ║  ║  ║  ║ └╥┘\n",
       " c2_0: 0 ════════════════════════╩══╬══╬══╬══╬══╬═\n",
       "                                    ║  ║  ║  ║  ║ \n",
       " c2_1: 0 ═══════════════════════════╩══╬══╬══╬══╬═\n",
       "                                       ║  ║  ║  ║ \n",
       " c2_2: 0 ══════════════════════════════╩══╬══╬══╬═\n",
       "                                          ║  ║  ║ \n",
       " c2_3: 0 ═════════════════════════════════╩══╬══╬═\n",
       "                                             ║  ║ \n",
       " c2_4: 0 ════════════════════════════════════╩══╬═\n",
       "                                                ║ \n",
       " c2_5: 0 ═══════════════════════════════════════╩═\n",
       "                                                  </pre>"
      ],
      "text/plain": [
       "<qiskit.visualization.text.TextDrawing at 0x1a1be1a8d0>"
      ]
     },
     "execution_count": 13,
     "metadata": {},
     "output_type": "execute_result"
    }
   ],
   "source": [
    "# Visualize the circuit\n",
    "qc.draw()"
   ]
  },
  {
   "cell_type": "code",
   "execution_count": 14,
   "metadata": {},
   "outputs": [
    {
     "name": "stdout",
     "output_type": "stream",
     "text": [
      "{'101101': 1}\n"
     ]
    }
   ],
   "source": [
    "# Execute the circuit on the simulator and note the results, \n",
    "# set to just a single shot and run a few times to compare results.\n",
    "job = execute(qc, backend=Aer.get_backend('qasm_simulator'), shots=1)\n",
    "result = job.result().get_counts(qc)\n",
    "print(result)"
   ]
  },
  {
   "cell_type": "markdown",
   "metadata": {},
   "source": [
    "Since we have these dice entangled we should see the results with the source bits (bit 0-2, LSB) and target bits (3-5), and are exactly the same each and every time we execute the experiment. "
   ]
  },
  {
   "cell_type": "markdown",
   "metadata": {},
   "source": [
    "### Challenge\n",
    "Since we don't want the casino to get too suspicious by noticing that two tables always have the same results, we will now update this to that the two dice are entangled, but not the same value. \n",
    "In order to do this, we will want the source and target to have \"opposite\" yet predictable values. \n",
    "\n",
    "For example: {101010}\n",
    "Source = 101 \n",
    "Target = 010 \n",
    "\n",
    "Create a circuit which would represent this. "
   ]
  },
  {
   "cell_type": "markdown",
   "metadata": {},
   "source": [
    "### Solution: for workshop lead (Hide cell and code from attendees)\n",
    "Hint: You only need X (NOT) gates.\n",
    "\n",
    "Answer: Just add an X-gate before the CNOT on the target qubits."
   ]
  },
  {
   "cell_type": "code",
   "execution_count": 15,
   "metadata": {},
   "outputs": [
    {
     "name": "stdout",
     "output_type": "stream",
     "text": [
      "{'101010': 1}\n"
     ]
    }
   ],
   "source": [
    "bitSize = 3\n",
    "q = QuantumRegister(2*bitSize)\n",
    "c = ClassicalRegister(2*bitSize)\n",
    "qc = QuantumCircuit(q, c)\n",
    "for i in range(bitSize):\n",
    "    qc.h(q[i])\n",
    "    qc.x(q[i+bitSize])\n",
    "    qc.cx(q[i], q[i+bitSize])\n",
    "\n",
    "qc.barrier(q)  \n",
    "qc.measure(q, c)\n",
    "\n",
    "job = execute(qc, backend=Aer.get_backend('qasm_simulator'), shots=1)\n",
    "result = job.result().get_counts(qc)\n",
    "print(result)"
   ]
  },
  {
   "cell_type": "code",
   "execution_count": 16,
   "metadata": {},
   "outputs": [
    {
     "data": {
      "text/html": [
       "<pre style=\"word-wrap: normal;white-space: pre;background: #fff0;line-height: 1.1;font-family: &quot;Courier New&quot;,Courier,monospace\">         ┌───┐                ░ ┌─┐               \n",
       "q3_0: |0>┤ H ├──■─────────────░─┤M├───────────────\n",
       "         ├───┤  │             ░ └╥┘┌─┐            \n",
       "q3_1: |0>┤ H ├──┼────■────────░──╫─┤M├────────────\n",
       "         ├───┤  │    │        ░  ║ └╥┘┌─┐         \n",
       "q3_2: |0>┤ H ├──┼────┼────■───░──╫──╫─┤M├─────────\n",
       "         ├───┤┌─┴─┐  │    │   ░  ║  ║ └╥┘┌─┐      \n",
       "q3_3: |0>┤ X ├┤ X ├──┼────┼───░──╫──╫──╫─┤M├──────\n",
       "         ├───┤└───┘┌─┴─┐  │   ░  ║  ║  ║ └╥┘┌─┐   \n",
       "q3_4: |0>┤ X ├─────┤ X ├──┼───░──╫──╫──╫──╫─┤M├───\n",
       "         ├───┤     └───┘┌─┴─┐ ░  ║  ║  ║  ║ └╥┘┌─┐\n",
       "q3_5: |0>┤ X ├──────────┤ X ├─░──╫──╫──╫──╫──╫─┤M├\n",
       "         └───┘          └───┘ ░  ║  ║  ║  ║  ║ └╥┘\n",
       " c3_0: 0 ════════════════════════╩══╬══╬══╬══╬══╬═\n",
       "                                    ║  ║  ║  ║  ║ \n",
       " c3_1: 0 ═══════════════════════════╩══╬══╬══╬══╬═\n",
       "                                       ║  ║  ║  ║ \n",
       " c3_2: 0 ══════════════════════════════╩══╬══╬══╬═\n",
       "                                          ║  ║  ║ \n",
       " c3_3: 0 ═════════════════════════════════╩══╬══╬═\n",
       "                                             ║  ║ \n",
       " c3_4: 0 ════════════════════════════════════╩══╬═\n",
       "                                                ║ \n",
       " c3_5: 0 ═══════════════════════════════════════╩═\n",
       "                                                  </pre>"
      ],
      "text/plain": [
       "<qiskit.visualization.text.TextDrawing at 0x1a1bfda208>"
      ]
     },
     "execution_count": 16,
     "metadata": {},
     "output_type": "execute_result"
    }
   ],
   "source": [
    "# Visualize the circuit\n",
    "qc.draw()"
   ]
  },
  {
   "cell_type": "markdown",
   "metadata": {},
   "source": [
    "## Congratulations! You have just completed the first challenge! "
   ]
  },
  {
   "cell_type": "code",
   "execution_count": null,
   "metadata": {},
   "outputs": [],
   "source": []
  }
 ],
 "metadata": {
  "kernelspec": {
   "display_name": "Python 3",
   "language": "python",
   "name": "python3"
  },
  "language_info": {
   "codemirror_mode": {
    "name": "ipython",
    "version": 3
   },
   "file_extension": ".py",
   "mimetype": "text/x-python",
   "name": "python",
   "nbconvert_exporter": "python",
   "pygments_lexer": "ipython3",
   "version": "3.7.3"
  }
 },
 "nbformat": 4,
 "nbformat_minor": 2
}
